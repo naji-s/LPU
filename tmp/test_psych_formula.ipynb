{
 "cells": [
  {
   "cell_type": "markdown",
   "metadata": {},
   "source": [
    "# this notebook contains steps taken to write the loss function (in particular the likelihood) for Geometric Gaussian Process LPU in terms of logsumexp function only"
   ]
  },
  {
   "cell_type": "code",
   "execution_count": 53,
   "metadata": {},
   "outputs": [],
   "source": [
    "\n",
    "import numpy as np\n",
    "import scipy.special\n",
    "import torch\n",
    "\n",
    "for trial in range(100):\n",
    "    l_i = np.random.binomial(1, 0.5)\n",
    "    gamma_sample=np.random.normal(0, 1)\n",
    "    lambda_sample=np.random.normal(0, 1)    \n",
    "    L_t = np.random.normal(0, 1)\n",
    "    L_s = np.random.normal(0, 1)\n",
    "    gamma_prime, lambda_prime, _ = torch.softmax(torch.tensor((gamma_sample, lambda_sample, 0.)), dim=0)\n",
    "\n",
    "    # original term\n",
    "    L_i = l_i * (np.log(scipy.special.expit(L_t)) + np.log(gamma_prime + (1 - gamma_prime - lambda_prime)*scipy.special.expit(L_s))) + \\\n",
    "        (1 - l_i)*(np.log(1 - scipy.special.expit(L_t)*(gamma_prime + (1 - gamma_prime - lambda_prime)*scipy.special.expit(L_s))))    \n",
    "\n",
    "    # one level expansion\n",
    "    L_i_prime = l_i * (np.log(scipy.special.expit(L_t)) + np.log((np.exp(gamma_sample)/(np.exp(gamma_sample) + np.exp(lambda_sample) + 1)) + (1 - (np.exp(gamma_sample)/(np.exp(gamma_sample) + np.exp(lambda_sample) + 1)) - (np.exp(lambda_sample)/(np.exp(gamma_sample) + np.exp(lambda_sample) + 1)))*scipy.special.expit(L_s))) + \\\n",
    "        (1 - l_i)*(np.log(1 - scipy.special.expit(L_t)*((np.exp(gamma_sample)/(np.exp(gamma_sample) + np.exp(lambda_sample) + 1)) + (1 - (np.exp(gamma_sample)/(np.exp(gamma_sample) + np.exp(lambda_sample) + 1)) - (np.exp(lambda_sample)/(np.exp(gamma_sample) + np.exp(lambda_sample) + 1)))*scipy.special.expit(L_s))))\n",
    "    \n",
    "    #full expansion\n",
    "    # see https://claude.ai/chat/c6c9fec4-ee22-47d7-85ad-e54eacbce667 for details\n",
    "    expanded_L_i =  l_i * (-np.log(1 + np.exp(-L_t)) \n",
    "                           + np.log(gamma_prime * (1 + np.exp(-L_s)) + (1 - gamma_prime - lambda_prime)) \n",
    "                           - np.log(1 + np.exp(-L_s))) \\\n",
    "                    + (1 - l_i) * (np.log((1 + np.exp(-L_t)) * (1 + np.exp(-L_s)) - (gamma_prime * (1 + np.exp(-L_s)) + (1 - gamma_prime - lambda_prime))) - np.log((1 + np.exp(-L_t)) * (1 + np.exp(-L_s))))\n",
    "\n",
    "    L_i_prime_no_fraction = l_i * (np.log(scipy.special.expit(L_t)) + np.log(np.exp(gamma_sample) * (np.exp(gamma_sample) + np.exp(lambda_sample) + 1)**(-1) + (1 - np.exp(gamma_sample) * (np.exp(gamma_sample) + np.exp(lambda_sample) + 1)**(-1) - np.exp(lambda_sample) * (np.exp(gamma_sample) + np.exp(lambda_sample) + 1)**(-1))*scipy.special.expit(L_s))) + \\\n",
    "           (1 - l_i)*(np.log(1 - scipy.special.expit(L_t)*(np.exp(gamma_sample) * (np.exp(gamma_sample) + np.exp(lambda_sample) + 1)**(-1) + (1 - np.exp(gamma_sample) * (np.exp(gamma_sample) + np.exp(lambda_sample) + 1)**(-1) - np.exp(lambda_sample) * (np.exp(gamma_sample) + np.exp(lambda_sample) + 1)**(-1))*scipy.special.expit(L_s))))\n",
    "    \n",
    "    L_i_prime_no_fraction_no_expit = l_i * (np.log(1 / (1 + np.exp(-L_t))) + np.log(np.exp(gamma_sample) * (np.exp(gamma_sample) + np.exp(lambda_sample) + 1)**(-1) + (1 - np.exp(gamma_sample) * (np.exp(gamma_sample) + np.exp(lambda_sample) + 1)**(-1) - np.exp(lambda_sample) * (np.exp(gamma_sample) + np.exp(lambda_sample) + 1)**(-1))*(1 / (1 + np.exp(-L_s))))) + \\\n",
    "           (1 - l_i)*(np.log(1 - (1 / (1 + np.exp(-L_t)))*(np.exp(gamma_sample) * (np.exp(gamma_sample) + np.exp(lambda_sample) + 1)**(-1) + (1 - np.exp(gamma_sample) * (np.exp(gamma_sample) + np.exp(lambda_sample) + 1)**(-1) - np.exp(lambda_sample) * (np.exp(gamma_sample) + np.exp(lambda_sample) + 1)**(-1))*(1 / (1 + np.exp(-L_s))))))    \n",
    "    # logsumexp_expanded_L_i = l_i * (scipy.special.logsumexp([-L_t, 0]) + scipy.special.logsumexp([scipy.special.logsumexp([gamma_sample - np.log(np.exp(gamma_sample) + np.exp(lambda_sample) + 1), 0]), \n",
    "    #                                                  scipy.special.logsumexp([-L_s, np.log(1 - np.exp(scipy.special.logsumexp([gamma_sample - np.log(np.exp(gamma_sample) + np.exp(lambda_sample) + 1), 0])) - \n",
    "    #                                                                          np.exp(scipy.special.logsumexp([lambda_sample - np.log(np.exp(gamma_sample) + np.exp(lambda_sample) + 1), 0])))])])) + \\\n",
    "    #         (1 - l_i) * (scipy.special.logsumexp([0, -scipy.special.logsumexp([-L_t, 0]) - scipy.special.logsumexp([scipy.special.logsumexp([gamma_sample - np.log(np.exp(gamma_sample) + np.exp(lambda_sample) + 1), 0]), \n",
    "    #                                                                         scipy.special.logsumexp([-L_s, np.log(1 - np.exp(scipy.special.logsumexp([gamma_sample - np.log(np.exp(gamma_sample) + np.exp(lambda_sample) + 1), 0])) - \n",
    "\n",
    "    L_i_prime_no_fraction_no_expit = l_i * (np.log(1 / (1 + np.exp(-L_t))) \\\n",
    "                                            + np.log(np.exp(gamma_sample) * (np.exp(gamma_sample) + np.exp(lambda_sample) + 1)**(-1) \n",
    "                                                   + (1 - np.exp(gamma_sample) * (np.exp(gamma_sample) + np.exp(lambda_sample) + 1)**(-1) \n",
    "                                                      - np.exp(lambda_sample) * (np.exp(gamma_sample) + np.exp(lambda_sample) + 1)**(-1))*(1 / (1 + np.exp(-L_s))))) + \\\n",
    "           (1 - l_i)*(np.log(1 - (1 / (1 + np.exp(-L_t)))*(np.exp(gamma_sample) * (np.exp(gamma_sample) + np.exp(lambda_sample) + 1)**(-1) + (1 - np.exp(gamma_sample) * (np.exp(gamma_sample) + np.exp(lambda_sample) + 1)**(-1) - np.exp(lambda_sample) * (np.exp(gamma_sample) + np.exp(lambda_sample) + 1)**(-1))*(1 / (1 + np.exp(-L_s))))))    \n",
    "\n",
    "    A = np.exp(gamma_sample)\n",
    "    B = np.exp(lambda_sample)\n",
    "    C = 1 + np.exp(-L_t)\n",
    "    D = 1 + np.exp(-L_s)\n",
    "\n",
    "    # C * D * (A + B + 1) =  (1 + np.exp(-L_t) + np.exp(-L_s) + np.exp(-L_t -L_s)) * (np.exp(gamma_sample) + np.exp(lambda_sample) + 1)\n",
    "    # C * D * (A + B + 1) - A * D -1  is the \"term\" variable below:\n",
    "    term = np.exp(gamma_sample - L_t) + np.exp(-L_t-L_s+gamma_sample) \\\n",
    "                             + np.exp(lambda_sample) + np.exp(lambda_sample - L_t) + np.exp(lambda_sample - L_s) + np.exp(-L_t-L_s+lambda_sample) \\\n",
    "                             + np.exp(-L_t) + np.exp(-L_s) + np.exp(-L_t-L_s)\n",
    "    \n",
    "    # writing the loglikelhood with A, B, C, D as variables\n",
    "    L_i_prime_with_aux_variables = l_i * (-np.log(C) + np.log(A * D + 1) - np.log((A + B + 1) * D)) + (1 - l_i) * (np.log((term)) - np.log((C * (A + B + 1) * D)))\n",
    "\n",
    "\n",
    "    L_i_prime_with_logsumexp = l_i * (-scipy.special.logsumexp([0, -L_t]) + scipy.special.logsumexp([gamma_sample, gamma_sample - L_s, 0]) - scipy.special.logsumexp([gamma_sample, + lambda_sample, 0]) - scipy.special.logsumexp([0, -L_s])) \\\n",
    "            + (1 - l_i) * (scipy.special.logsumexp([gamma_sample - L_t, gamma_sample - L_t - L_s, lambda_sample, lambda_sample - L_t, lambda_sample - L_s, lambda_sample - L_t - L_s,-L_t, -L_s, -L_t - L_s])\\\n",
    "                           - scipy.special.logsumexp([gamma_sample, gamma_sample - L_s, gamma_sample - L_t, gamma_sample - L_s - L_t, \n",
    "                                                      lambda_sample, lambda_sample - L_s, lambda_sample - L_t, lambda_sample - L_t - L_s, 0, -L_t, -L_s, -L_t - L_s]))\n",
    "\n",
    "    logit = -scipy.special.logsumexp([0, -L_t]) + scipy.special.logsumexp([gamma_sample, gamma_sample - L_s, 0]) - scipy.special.logsumexp([gamma_sample, + lambda_sample, 0]) - scipy.special.logsumexp([0, -L_s]) \\\n",
    "    -scipy.special.logsumexp([gamma_sample - L_t, gamma_sample - L_t - L_s, lambda_sample, lambda_sample - L_t, lambda_sample - L_s, lambda_sample - L_t - L_s,-L_t, -L_s, -L_t - L_s])\\\n",
    "    +scipy.special.logsumexp([gamma_sample, gamma_sample - L_s, gamma_sample - L_t, gamma_sample - L_s - L_t, \n",
    "                                                      lambda_sample, lambda_sample - L_s, lambda_sample - L_t, lambda_sample - L_t - L_s, 0, -L_t, -L_s, -L_t - L_s])\n",
    "    \n",
    "    # print (np.log((C * (A + B + 1) * D - A * D - 1)), 3 * np.log(C) + np.log(B) + 2 * np.log(D))\n",
    "    # L_i_prime_log_sum_exp =  l_i * (-scipy.special.logsumexp([0, L_t]) \\\n",
    "    #                                 + gamma_sample - scipy.special.logsumexp([gamma_sample, lambda_sample, 0])\\ \n",
    "    #                                 -scipy.special.logsumexp([gamma_sample, lambda_sample, 0]) + scipy.special.logsumexp([0, L_s])])) + \\\n",
    "    #                              (1 - l_i) * (np.log(-np.expm1(-scipy.special.logsumexp([0, L_t]) - scipy.special.logsumexp([gamma_sample - scipy.special.logsumexp([gamma_sample, lambda_sample, 0]), -scipy.special.logsumexp([gamma_sample, lambda_sample, 0]) + scipy.special.logsumexp([0, L_s])]))))\n",
    "                                                                                                        # np.exp(scipy.special.logsumexp([lambda_sample - np.log(np.exp(gamma_sample) + np.exp(lambda_sample) + 1), 0])))])])]))\n",
    "    if not np.allclose(L_i, L_i_prime):\n",
    "        raise ValueError(f\"Error: {L_i} != {L_i_prime}\")\n",
    "    \n",
    "    if not np.allclose(L_i, expanded_L_i, atol=1e-6):\n",
    "        raise ValueError(f\"Error: {L_i} != {expanded_L_i}\")\n",
    "\n",
    "    if not np.allclose(L_i, L_i_prime_no_fraction, 1e-6):\n",
    "        raise ValueError(f\"Error: {L_i} != {L_i_prime_no_fraction}, and the difference is {np.abs(L_i - L_i_prime_no_fraction)}\")\n",
    "    \n",
    "    if not np.allclose(L_i, L_i_prime_no_fraction_no_expit, 1e-6):\n",
    "        raise ValueError(f\"Error: {L_i} != {L_i_prime_no_fraction_no_expit}, and the difference is {np.abs(L_i - L_i_prime_no_fraction_no_expit)}\")\n",
    "\n",
    "    if not np.allclose(L_i, L_i_prime_with_aux_variables, 1e-6):\n",
    "        raise ValueError(f\"Error: {L_i} != {L_i_prime_with_aux_variables}, and the difference is {np.abs(L_i - L_i_prime_with_aux_variables)}\")\n",
    "\n",
    "    if not np.allclose(L_i, L_i_prime_with_logsumexp, 1e-6):\n",
    "        raise ValueError(f\"Error: {L_i} != {L_i_prime_with_logsumexp}, and the difference is {np.abs(L_i - L_i_prime_with_logsumexp)}\")\n",
    "\n",
    "    # if not np.allclose(L_i, L_i_prime_log_sum_exp, 1e-6):\n",
    "    #     raise ValueError(f\"Error: {L_i} != {L_i_prime_log_sum_exp}, and the difference is {np.abs(L_i - L_i_prime_log_sum_exp)}\")\n"
   ]
  },
  {
   "cell_type": "code",
   "execution_count": 23,
   "metadata": {},
   "outputs": [
    {
     "data": {
      "text/plain": [
       "-0.7706925594594443"
      ]
     },
     "execution_count": 23,
     "metadata": {},
     "output_type": "execute_result"
    }
   ],
   "source": [
    "np.log((np.exp(gamma_sample)/(np.exp(gamma_sample) + np.exp(lambda_sample) + 1)) + (1 - (np.exp(gamma_sample)/(np.exp(gamma_sample) + np.exp(lambda_sample) + 1)) - (np.exp(lambda_sample)/(np.exp(gamma_sample) + np.exp(lambda_sample) + 1)))*scipy.special.expit(L_s))"
   ]
  },
  {
   "cell_type": "markdown",
   "metadata": {},
   "source": []
  },
  {
   "cell_type": "code",
   "execution_count": null,
   "metadata": {},
   "outputs": [],
   "source": []
  },
  {
   "cell_type": "code",
   "execution_count": null,
   "metadata": {},
   "outputs": [],
   "source": [
    "L_i_prime"
   ]
  },
  {
   "cell_type": "code",
   "execution_count": null,
   "metadata": {},
   "outputs": [],
   "source": []
  }
 ],
 "metadata": {
  "kernelspec": {
   "display_name": "venv",
   "language": "python",
   "name": "python3"
  },
  "language_info": {
   "codemirror_mode": {
    "name": "ipython",
    "version": 3
   },
   "file_extension": ".py",
   "mimetype": "text/x-python",
   "name": "python",
   "nbconvert_exporter": "python",
   "pygments_lexer": "ipython3",
   "version": "3.11.0"
  }
 },
 "nbformat": 4,
 "nbformat_minor": 2
}
